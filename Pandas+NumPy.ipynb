{
  "nbformat": 4,
  "nbformat_minor": 0,
  "metadata": {
    "colab": {
      "name": "HW2_Duan_James.ipynb",
      "provenance": [],
      "collapsed_sections": []
    },
    "kernelspec": {
      "name": "python3",
      "display_name": "Python 3"
    }
  },
  "cells": [
    {
      "cell_type": "markdown",
      "metadata": {
        "id": "bNsIruOzI4iF"
      },
      "source": [
        "## **Homework 2**\n",
        "\n",
        "### Create a copy of the notebook to start answering the questions. Name your notebook in the format HW1_lastname_firstname.ipynb to facilitate the grading process. \n",
        "\n",
        "### Answer all the questions, test your code to ensure there are no errors and the results are as expected. Once you have answered all the questions, save the final copy, then go to File-> click on Download.ipynb. Once the local copy has been downloaded, submit your file on Blackboard under the corresponding assignment section. Also provide us a link to your notebook during submission. \n",
        "\n",
        "### **The due date of this homework is 02/12/2021 (Friday).**\n",
        "\n",
        "### Please ensure you follow all the steps mentioned in the homework.\n",
        "\n",
        "### All the questions have a sample input and output to help you understand the question.\n",
        "\n",
        "### You can submit your solutions any number of times until the deadline.\n"
      ]
    },
    {
      "cell_type": "markdown",
      "metadata": {
        "id": "U3Yz3s2uio1F"
      },
      "source": [
        "**Q1. Lets consider your data is like the below cell:**\n",
        "\n",
        "**Q1-1**: Write a program that create a dataframe from the data.\n",
        "\n",
        "**Q1-2:** Select people that are psychologist or teacher and their number of cars is greater than their family size.\n",
        "\n",
        "**Q1-3:** Select people who have at most 2 family members and at least 1 car.\n",
        "\n",
        "**Q1-4:** Write a code that get number of unique jobs in this dataset.\n",
        "\n",
        "\n",
        "\n"
      ]
    },
    {
      "cell_type": "code",
      "metadata": {
        "id": "yR8lcOtcjxXD"
      },
      "source": [
        "import pandas as pd\n",
        "data = {\"name\": [\"Joseph\", \"Jacob\", \"Sam\", \"Jesee\", \"Ryan\", \"Lisa\", \"Lee\"],\n",
        "        \"job\": [\"teacher\", \"psychologist\", \"data scientist\", \"software developer\", \"psychologist\", \"psychologist\", \"teacher\"],\n",
        "        \"family_size\": [3, 2, 1, 4, 2, 3, 2],\n",
        "        \"num_cars\": [3, 1, 1, 2, 2, 4, 1]}"
      ],
      "execution_count": null,
      "outputs": []
    },
    {
      "cell_type": "code",
      "metadata": {
        "id": "Youi5qMaP34p",
        "colab": {
          "base_uri": "https://localhost:8080/"
        },
        "outputId": "c4a58365-b81a-4306-ca64-0917cbcf1672"
      },
      "source": [
        "#q1-1\n",
        "data = pd.DataFrame(data,columns=[\"name\",\"job\",\"family_size\",\"num_cars\"])\n",
        "print(data)\n",
        "\n",
        "print() #seperate answers for aesthetic purposes\n",
        "\n",
        "#q1-2\n",
        "q2 = data[((data.job==\"psychologist\") | (data.job==\"teacher\")) & (data.num_cars > data.family_size)]\n",
        "#first select psychologist or teacher, then select ones who have more cars than family size\n",
        "print(q2)\n",
        "\n",
        "print() #seperate answers for aesthetic purposes\n",
        "\n",
        "#q1-3\n",
        "q3 = data[(data.family_size <= 2) & (data.num_cars >= 1)]\n",
        "print(q3)\n",
        "\n",
        "print() #seperate answers for aesthetic purposes\n",
        "\n",
        "#q1-4\n",
        "num_unique_jobs = len(data[\"job\"].unique())\n",
        "print(\"The number of unique jobs in this dataset is\", num_unique_jobs)"
      ],
      "execution_count": null,
      "outputs": [
        {
          "output_type": "stream",
          "text": [
            "     name                 job  family_size  num_cars\n",
            "0  Joseph             teacher            3         3\n",
            "1   Jacob        psychologist            2         1\n",
            "2     Sam      data scientist            1         1\n",
            "3   Jesee  software developer            4         2\n",
            "4    Ryan        psychologist            2         2\n",
            "5    Lisa        psychologist            3         4\n",
            "6     Lee             teacher            2         1\n",
            "\n",
            "   name           job  family_size  num_cars\n",
            "5  Lisa  psychologist            3         4\n",
            "\n",
            "    name             job  family_size  num_cars\n",
            "1  Jacob    psychologist            2         1\n",
            "2    Sam  data scientist            1         1\n",
            "4   Ryan    psychologist            2         2\n",
            "6    Lee         teacher            2         1\n",
            "\n",
            "The number of unique jobs in this dataset is 4\n"
          ],
          "name": "stdout"
        }
      ]
    },
    {
      "cell_type": "markdown",
      "metadata": {
        "id": "Ow6nG8k4l91X"
      },
      "source": [
        "**Q2. Lets consider you have two series like the below cell. Compute the mean of weights of each fruit.**"
      ]
    },
    {
      "cell_type": "code",
      "metadata": {
        "id": "u-X_DoOzVLLB"
      },
      "source": [
        "import numpy as np\n",
        "fruit = pd.Series(np.random.choice(['apple', 'banana', 'carrot'], 10))\n",
        "weights = pd.Series(np.linspace(1, 10, 10))"
      ],
      "execution_count": null,
      "outputs": []
    },
    {
      "cell_type": "code",
      "metadata": {
        "id": "S419nzYnpU__",
        "colab": {
          "base_uri": "https://localhost:8080/"
        },
        "outputId": "6bd3c6e0-44b4-44b2-ff7c-9ea02a87db9b"
      },
      "source": [
        "#create dataframe\n",
        "frame = pd.DataFrame(columns=[\"fruit\",\"weights\"]) #create a shell dataframe\n",
        "frame[\"fruit\"] = fruit      #assign fruits to fruit column\n",
        "frame[\"weights\"] = weights  #assign weights to weights column\n",
        "print(frame, \"\\n\")\n",
        "\n",
        "apple = frame[frame.fruit == \"apple\"] #df for just apples\n",
        "meanapple = pd.DataFrame.mean(apple[\"weights\"])  #mean weight of apples\n",
        "\n",
        "carrot = frame[frame.fruit == \"carrot\"] #df for just carrots\n",
        "meancarrot = pd.DataFrame.mean(carrot[\"weights\"])  #mean weight of carrots\n",
        "\n",
        "banana = frame[frame.fruit == \"banana\"] #df for just bananas\n",
        "meanbanana = pd.DataFrame.mean(banana[\"weights\"])  #mean weight of bananas\n",
        "\n",
        "print(\"The mean weight of apples:\", meanapple)\n",
        "print(\"The mean weight of carrots:\", meancarrot)\n",
        "print(\"The mean weight of bananas:\", meanbanana)"
      ],
      "execution_count": null,
      "outputs": [
        {
          "output_type": "stream",
          "text": [
            "    fruit  weights\n",
            "0   apple      1.0\n",
            "1  banana      2.0\n",
            "2  banana      3.0\n",
            "3   apple      4.0\n",
            "4  banana      5.0\n",
            "5  banana      6.0\n",
            "6   apple      7.0\n",
            "7  banana      8.0\n",
            "8  carrot      9.0\n",
            "9  banana     10.0 \n",
            "\n",
            "The mean weight of apples: 4.0\n",
            "The mean weight of carrots: 9.0\n",
            "The mean weight of bananas: 5.666666666666667\n"
          ],
          "name": "stdout"
        }
      ]
    },
    {
      "cell_type": "markdown",
      "metadata": {
        "id": "g4lKaPIhtVrt"
      },
      "source": [
        "**Q3. Consider the below course_name array:**\n",
        "\n",
        "**Q3-1**: Write a NumPy program to get the indices of the sorted elements of **course_name** array.\n",
        "\n",
        "**Q3-2:** Write numpy code to check whether each element of **course_name** array starts with \"P\".\n"
      ]
    },
    {
      "cell_type": "code",
      "metadata": {
        "id": "RUP_jp2KtVrx"
      },
      "source": [
        "import numpy as np\n",
        "course_name = np.array(['Python', 'JS', 'examples', 'PHP', 'html'])"
      ],
      "execution_count": null,
      "outputs": []
    },
    {
      "cell_type": "code",
      "metadata": {
        "id": "U1i27POxv-o_",
        "colab": {
          "base_uri": "https://localhost:8080/"
        },
        "outputId": "693297e1-3860-42aa-a05d-508d38594f82"
      },
      "source": [
        "#q3-1\n",
        "sorted = np.sort(course_name)           #sort the courses\n",
        "sorted_index = np.array([],dtype=np.int) #create empty array for the indices of sorted elements\n",
        "for i in sorted:            #loop through each element in sorted courses\n",
        "  sorted_index = np.append(sorted_index,np.where(course_name==i)) \n",
        "  #use where to get index of the sorted element via the orignal array and append to the sorted_index\n",
        "print(sorted_index)\n",
        "\n",
        "print() #seperate answers for aesthetic purposes\n",
        "\n",
        "#q3-2\n",
        "check = np.char.startswith(course_name,\"P\") #checks which element starts with \"P\" and returns array of Booleans\n",
        "p = course_name[check]  #store the elements that begin with p into a new array\n",
        "print(p[0],\"and\",p[1], \"begin with the letter \\\"P\\\"\")"
      ],
      "execution_count": null,
      "outputs": [
        {
          "output_type": "stream",
          "text": [
            "[1 3 0 2 4]\n",
            "\n",
            "Python and PHP begin with the letter \"P\"\n"
          ],
          "name": "stdout"
        }
      ]
    },
    {
      "cell_type": "markdown",
      "metadata": {
        "id": "sUFItNFOxwkz"
      },
      "source": [
        "**Q4. Consider the below student_id array:**\n",
        "\n",
        "**Q4-1:** Reverse the **student_id** array. Print both original and reversed array.\n",
        "\n",
        "**Q4-2:** Get the 3-largest values of **student_id** array."
      ]
    },
    {
      "cell_type": "code",
      "metadata": {
        "id": "Rl5qzEjFv0nw"
      },
      "source": [
        "import numpy as np\n",
        "student_id = np.array([1023, 5202, 6230, 1671, 1682, 5241, 4532])"
      ],
      "execution_count": null,
      "outputs": []
    },
    {
      "cell_type": "code",
      "metadata": {
        "id": "EetvHGrUxMCC",
        "colab": {
          "base_uri": "https://localhost:8080/"
        },
        "outputId": "f7c7426c-867f-4c99-df31-00491057e9e6"
      },
      "source": [
        "#q4-1\n",
        "rev = np.flip(student_id)     #reverse the array and save to variable rev\n",
        "print(student_id)\n",
        "print(rev)\n",
        "\n",
        "print() #seperate answers for aesthetic purposes\n",
        "\n",
        "#q4-2\n",
        "sorted = np.sort(student_id)  #sort the array in ascending order and save to variable sorted\n",
        "large = (sorted[-3:])         #use -index to get the last 3 numbers and save to variable large\n",
        "print(large)            "
      ],
      "execution_count": null,
      "outputs": [
        {
          "output_type": "stream",
          "text": [
            "[1023 5202 6230 1671 1682 5241 4532]\n",
            "[4532 5241 1682 1671 6230 5202 1023]\n",
            "\n",
            "[5202 5241 6230]\n"
          ],
          "name": "stdout"
        }
      ]
    },
    {
      "cell_type": "markdown",
      "metadata": {
        "id": "uKRyDVuW6B19"
      },
      "source": [
        "# **Q5: Write a numpy program to print sum of all the multiples of 3 or 5 below 100**"
      ]
    },
    {
      "cell_type": "code",
      "metadata": {
        "id": "ZIixq1gz6OK3",
        "colab": {
          "base_uri": "https://localhost:8080/"
        },
        "outputId": "ebcea848-20ac-4a1c-cd34-eef85e2bba94"
      },
      "source": [
        "arr = np.arange(0,101)  #create array of int from 0 to 100\n",
        "mult35 = arr[np.logical_or(arr%3==0,arr%5==0)] #use or to only keep multiples of 3 or 5\n",
        "print(np.sum(mult35)) #sum all of the multiples of 3 or 5\n"
      ],
      "execution_count": null,
      "outputs": [
        {
          "output_type": "stream",
          "text": [
            "2418\n"
          ],
          "name": "stdout"
        }
      ]
    },
    {
      "cell_type": "markdown",
      "metadata": {
        "id": "2CWJOsP24c34"
      },
      "source": [
        "**Q6. Consider the below array.**\n",
        "\n",
        "Q6.1. Write a code to swap column 1 with column 2.\n",
        "\n",
        "Q6.2. Write a code to swap row 0 with row 1."
      ]
    },
    {
      "cell_type": "code",
      "metadata": {
        "id": "3OG6X5Eg5KSM",
        "colab": {
          "base_uri": "https://localhost:8080/"
        },
        "outputId": "d857b870-5d70-4469-f556-6ec531e127b8"
      },
      "source": [
        "import numpy as np\n",
        "\n",
        "arr = np.arange(12).reshape(3,4)\n",
        "print(arr)"
      ],
      "execution_count": null,
      "outputs": [
        {
          "output_type": "stream",
          "text": [
            "[[ 0  1  2  3]\n",
            " [ 4  5  6  7]\n",
            " [ 8  9 10 11]]\n"
          ],
          "name": "stdout"
        }
      ]
    },
    {
      "cell_type": "code",
      "metadata": {
        "id": "Q-Q91DpO5YYW",
        "colab": {
          "base_uri": "https://localhost:8080/"
        },
        "outputId": "8af680c3-9d18-4686-eb04-f916b646eab7"
      },
      "source": [
        "#q6.1\n",
        "arr[:,[1,2]] = arr[:,[2,1]] #select column 1 and 2 and replace with the reverse of column 1 and 2\n",
        "print(arr)\n",
        "\n",
        "print() #seperate answers for aesthetic purposes\n",
        "\n",
        "#q6.2\n",
        "arr[[0,1],:] = arr[[1,0],:] #select row 0 and 1 and replace with the reverse of row 0 and 1\n",
        "print(arr)\n"
      ],
      "execution_count": null,
      "outputs": [
        {
          "output_type": "stream",
          "text": [
            "[[ 0  2  1  3]\n",
            " [ 4  6  5  7]\n",
            " [ 8 10  9 11]]\n",
            "\n",
            "[[ 4  6  5  7]\n",
            " [ 0  2  1  3]\n",
            " [ 8 10  9 11]]\n"
          ],
          "name": "stdout"
        }
      ]
    }
  ]
}